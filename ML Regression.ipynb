{
 "cells": [
  {
   "cell_type": "code",
   "execution_count": 1,
   "id": "101f5c5f-e720-4b60-b963-4b6cecd280bd",
   "metadata": {},
   "outputs": [],
   "source": [
    "import pandas as pd\n",
    "import numpy as np\n",
    "import matplotlib.pyplot as plt\n",
    "from sklearn.model_selection import train_test_split\n",
    "from sklearn.preprocessing import StandardScaler\n",
    "from sklearn.linear_model import LinearRegression\n",
    "from sklearn.ensemble import RandomForestRegressor\n",
    "import xgboost as xgb\n",
    "from sklearn.metrics import r2_score, mean_squared_error"
   ]
  },
  {
   "cell_type": "code",
   "execution_count": 2,
   "id": "7ae2fac4-1429-436c-b747-8b1898ddbd1a",
   "metadata": {},
   "outputs": [],
   "source": [
    "df = pd.read_csv(r\"D:\\Study\\ML\\dataset-of-10s.csv\")"
   ]
  },
  {
   "cell_type": "code",
   "execution_count": 3,
   "id": "be8fe239-7547-4a9c-864f-341c2806a0ea",
   "metadata": {},
   "outputs": [],
   "source": [
    "X = df.drop(['track', 'artist', 'uri', 'target', 'danceability'], axis=1)\n",
    "y = df['danceability']"
   ]
  },
  {
   "cell_type": "code",
   "execution_count": 4,
   "id": "52c99b87-19e9-4b35-8e6a-678ac2c6bbb8",
   "metadata": {},
   "outputs": [],
   "source": [
    "X_train, X_test, y_train, y_test = train_test_split(X, y, test_size=0.2, random_state=42)"
   ]
  },
  {
   "cell_type": "code",
   "execution_count": 5,
   "id": "a2a6bfa4-e391-4380-b470-8b915fa2d932",
   "metadata": {},
   "outputs": [],
   "source": [
    "scaler = StandardScaler()\n",
    "X_train_scaled = scaler.fit_transform(X_train)\n",
    "X_test_scaled = scaler.transform(X_test)"
   ]
  },
  {
   "cell_type": "code",
   "execution_count": 6,
   "id": "5877dc3e-7f52-42b9-8541-050192aa7fac",
   "metadata": {},
   "outputs": [],
   "source": [
    "def evaluate_regressor(model, X_test_scaled, y_test, model_name):\n",
    "    \"\"\"Calculates and prints R-squared and MSE for a regression model.\"\"\"\n",
    "    print(f\"\\n--- Evaluating: {model_name} ---\")\n",
    "    \n",
    "    y_pred = model.predict(X_test_scaled)\n",
    "    r2 = r2_score(y_test, y_pred)\n",
    "    mse = mean_squared_error(y_test, y_pred)\n",
    "    \n",
    "    print(f\"R-Squared (R²): {r2:.4f}\")\n",
    "    print(f\"Mean Squared Error (MSE): {mse:.4f}\")\n",
    "    return r2"
   ]
  },
  {
   "cell_type": "code",
   "execution_count": 7,
   "id": "a20a48d4-fba9-42a4-8516-83efc70f796a",
   "metadata": {},
   "outputs": [
    {
     "name": "stdout",
     "output_type": "stream",
     "text": [
      "\n",
      "Training Linear Regression...\n",
      "\n",
      "--- Evaluating: Linear Regression ---\n",
      "R-Squared (R²): 0.4430\n",
      "Mean Squared Error (MSE): 0.0216\n"
     ]
    }
   ],
   "source": [
    "# Model 1: Linear Regression (Baseline)\n",
    "print(\"\\nTraining Linear Regression...\")\n",
    "lr_model = LinearRegression()\n",
    "lr_model.fit(X_train_scaled, y_train)\n",
    "lr_r2 = evaluate_regressor(lr_model, X_test_scaled, y_test, \"Linear Regression\")"
   ]
  },
  {
   "cell_type": "code",
   "execution_count": 8,
   "id": "b11197d5-8de6-4d6f-8963-79ac8c4fcf3d",
   "metadata": {},
   "outputs": [
    {
     "name": "stdout",
     "output_type": "stream",
     "text": [
      "\n",
      "Training Random Forest Regressor...\n",
      "\n",
      "--- Evaluating: Random Forest Regressor ---\n",
      "R-Squared (R²): 0.6185\n",
      "Mean Squared Error (MSE): 0.0148\n"
     ]
    }
   ],
   "source": [
    "# Model 2: Random Forest Regressor\n",
    "print(\"\\nTraining Random Forest Regressor...\")\n",
    "rf_model = RandomForestRegressor(random_state=42, n_estimators=100)\n",
    "rf_model.fit(X_train_scaled, y_train)\n",
    "rf_r2 = evaluate_regressor(rf_model, X_test_scaled, y_test, \"Random Forest Regressor\")"
   ]
  },
  {
   "cell_type": "code",
   "execution_count": 9,
   "id": "6d90e5da-0f90-46fe-991a-9c2ed3a4790a",
   "metadata": {},
   "outputs": [
    {
     "name": "stdout",
     "output_type": "stream",
     "text": [
      "\n",
      "Training XGBoost Regressor...\n",
      "\n",
      "--- Evaluating: XGBoost Regressor ---\n",
      "R-Squared (R²): 0.6106\n",
      "Mean Squared Error (MSE): 0.0151\n"
     ]
    }
   ],
   "source": [
    "# Model 3: XGBoost Regressor\n",
    "print(\"\\nTraining XGBoost Regressor...\")\n",
    "xgb_model = xgb.XGBRegressor(random_state=42, n_estimators=100)\n",
    "xgb_model.fit(X_train_scaled, y_train)\n",
    "xgb_r2 = evaluate_regressor(xgb_model, X_test_scaled, y_test, \"XGBoost Regressor\")"
   ]
  },
  {
   "cell_type": "code",
   "execution_count": 11,
   "id": "07f53d40-75f7-460b-a1a1-cd8b2950a448",
   "metadata": {},
   "outputs": [
    {
     "name": "stdout",
     "output_type": "stream",
     "text": [
      "\n",
      "Training Support Vector Regressor (SVR)...\n",
      "\n",
      "--- Evaluating: Support Vector Regressor (SVR) ---\n",
      "R-Squared (R²): 0.5678\n",
      "Mean Squared Error (MSE): 0.0168\n"
     ]
    }
   ],
   "source": [
    "#Model 4: Support Vector Regressor (SVR) ---\n",
    "from sklearn.svm import SVR\n",
    "print(\"\\nTraining Support Vector Regressor (SVR)...\")\n",
    "# SVR is sensitive to scaling, which we've already done.\n",
    "svr_model = SVR()\n",
    "svr_model.fit(X_train_scaled, y_train)\n",
    "svr_r2 = evaluate_regressor(svr_model, X_test_scaled, y_test, \"Support Vector Regressor (SVR)\")"
   ]
  },
  {
   "cell_type": "code",
   "execution_count": 13,
   "id": "9b0b2a10-b201-4f89-b8ff-c1f56e835bc8",
   "metadata": {},
   "outputs": [
    {
     "name": "stdout",
     "output_type": "stream",
     "text": [
      "\n",
      "--- Best Model Selection ---\n",
      "The best model is: Random Forest with R² = 0.6185\n"
     ]
    }
   ],
   "source": [
    "models = {\n",
    "    'Linear Regression': (lr_model, lr_r2),\n",
    "    'Random Forest': (rf_model, rf_r2),\n",
    "    'XGBoost': (xgb_model, xgb_r2),\n",
    "    'SVR': (svr_model, svr_r2)\n",
    "}\n",
    "best_model_name = max(models, key=lambda k: models[k][1])\n",
    "best_model_obj = models[best_model_name][0]\n",
    "print(f\"\\n--- Best Model Selection ---\")\n",
    "print(f\"The best model is: {best_model_name} with R² = {models[best_model_name][1]:.4f}\")"
   ]
  },
  {
   "cell_type": "code",
   "execution_count": 14,
   "id": "9547a8fe-a8af-452a-8571-4d09507614f5",
   "metadata": {},
   "outputs": [
    {
     "name": "stdout",
     "output_type": "stream",
     "text": [
      "\n",
      "--- Testing the Best Model: Random Forest ---\n",
      "Test song features scaled.\n",
      "\n",
      "--- PREDICTION COMPLETE ---\n",
      "Predicted Danceability Score: 0.6979\n",
      "This song is moderately danceable.\n"
     ]
    },
    {
     "name": "stderr",
     "output_type": "stream",
     "text": [
      "C:\\Users\\LENOVO\\AppData\\Local\\Programs\\Python\\Python311\\Lib\\site-packages\\sklearn\\utils\\validation.py:2739: UserWarning: X does not have valid feature names, but StandardScaler was fitted with feature names\n",
      "  warnings.warn(\n"
     ]
    }
   ],
   "source": [
    "best_model_to_test = best_model_obj\n",
    "scaler_to_use = scaler\n",
    "\n",
    "print(f\"\\n--- Testing the Best Model: {best_model_name} ---\")\n",
    "\n",
    "feature_names = [\n",
    "    'energy', 'key', 'loudness', 'mode', 'speechiness', \n",
    "    'acousticness', 'instrumentalness', 'liveness', 'valence', \n",
    "    'tempo', 'duration_ms', 'time_signature', 'chorus_hit', 'sections'\n",
    "]\n",
    "\n",
    "sample_song_features = [\n",
    "    0.85,    # energy\n",
    "    7,       # key\n",
    "    -5.5,    # loudness\n",
    "    1,       # mode\n",
    "    0.08,    # speechiness\n",
    "    0.15,    # acousticness\n",
    "    0.0,     # instrumentalness\n",
    "    0.12,    # liveness\n",
    "    0.78,    # valence\n",
    "    124.0,   # tempo\n",
    "    210000,  # duration_ms\n",
    "    4,       # time_signature\n",
    "    45.0,    # chorus_hit\n",
    "    11       # sections\n",
    "]\n",
    "\n",
    "\n",
    "sample_song_scaled = scaler_to_use.transform([sample_song_features])\n",
    "print(\"Test song features scaled.\")\n",
    "\n",
    "prediction = best_model_to_test.predict(sample_song_scaled)\n",
    "predicted_danceability = prediction[0]\n",
    "\n",
    "print(\"\\n--- PREDICTION COMPLETE ---\")\n",
    "print(f\"Predicted Danceability Score: {predicted_danceability:.4f}\")\n",
    "if predicted_danceability > 0.75:\n",
    "    print(\"This is a very danceable song!\")\n",
    "elif predicted_danceability > 0.5:\n",
    "    print(\"This song is moderately danceable.\")\n",
    "else:\n",
    "    print(\"This song is not very danceable.\")"
   ]
  },
  {
   "cell_type": "code",
   "execution_count": null,
   "id": "dc80e909-cdd1-48f8-ba25-7d6927ecbd87",
   "metadata": {},
   "outputs": [],
   "source": []
  }
 ],
 "metadata": {
  "kernelspec": {
   "display_name": "Python 3 (ipykernel)",
   "language": "python",
   "name": "python3"
  },
  "language_info": {
   "codemirror_mode": {
    "name": "ipython",
    "version": 3
   },
   "file_extension": ".py",
   "mimetype": "text/x-python",
   "name": "python",
   "nbconvert_exporter": "python",
   "pygments_lexer": "ipython3",
   "version": "3.11.0"
  }
 },
 "nbformat": 4,
 "nbformat_minor": 5
}
